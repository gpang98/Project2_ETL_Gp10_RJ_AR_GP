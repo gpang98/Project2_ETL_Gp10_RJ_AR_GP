{
 "cells": [
  {
   "cell_type": "markdown",
   "id": "0cf456f1-d52f-4cc9-b064-7acb19a2da43",
   "metadata": {},
   "source": [
    "# Crowdfunding_ETL_Project_2_Group10_RJ_AR_GP\n",
    "\n",
    "This project under Group 10 is jointly done by the following contributors:\n",
    "\n",
    "😎1. Ryan James\n",
    "\n",
    "😘2. Athira Reji\n",
    "\n",
    "😎3. Geoffrey Pang\n",
    "\n",
    "\n",
    "The colloborated GitHub was done here https://github.com/athirareji321/Project_2_Crowdfunding_ETL_Group_10_AR_RJ_GP \n",
    "and all the relevant final files are copied to this personal GitHub folder.\n",
    "\n",
    "-----------------------------------------------------------\n",
    "Codes used are taken from lecture notes and ChatGPT.\n",
    "\n",
    "-----------------------------------------------------------\n",
    "\n",
    "**The GitHub repository consist of the following files:**\n",
    "\n",
    "👌1. **ETL_Mini_Project2_Gp10_RJ_AR_GP.ipynb** - all the required codes are in this file.\n",
    "\n",
    "👌2. **ETL_Mini_Project_Started_Code.ipynb - this was the original file for starting the codes.\n",
    "\n",
    "👌3. Project2_ERD_Diagram.jpg - ERD diagram showing the tables relationship generated from QuickDBD.\n",
    "\n",
    "👌4. Project2_Schema_Final.sql\n",
    "\n",
    "    - the postgresql job used to generate the crowdfunding_db database.\n",
    "    - the csv files (under Resource folder) are loaded to the individual table using Data Import making sure the header tick is selected.\n",
    "    - The creation of the tables must followed this sequence (category, subcategory, contact and finally campaign).  The 1st three tables can be created in any order since they are independent with their respective Primary Key but campaign table has to be created last since it uses the primary keys from other tables as Foreign Keys.\n",
    "    - The same sequence is also used to do data loading.  The 1st three can be in any order but campaign table is the last to be loaded using the Data Import csv option.\n",
    "👌5. Resources folder\n",
    "\n",
    "    - consist of the original two files contact.xlsx and crowrdfunding.xlsx as data input and \n",
    "    - the 4 csv files (categrory, subcategory, contact and crowdfunding) generated using Step 1 codes and\n",
    "    - later loaded into the postgresql database in Step 4.\n",
    "👌6. Checking_data_input.sql - to check whether the CSV files have been loaded properly.\n",
    "\n",
    "👌7. Images Folder \n",
    "\n",
    "    - 4 jpg files showing the postgresql database and the result of the Step 6 queries.\n",
    "    \n",
    "👌8. README file - this file explaining the GitHub repo file structure."
   ]
  },
  {
   "cell_type": "code",
   "execution_count": null,
   "id": "1a86ced8-07f0-48e1-81e6-2bd3dceeed5e",
   "metadata": {},
   "outputs": [],
   "source": []
  }
 ],
 "metadata": {
  "kernelspec": {
   "display_name": "PythonData",
   "language": "python",
   "name": "pythondata"
  },
  "language_info": {
   "codemirror_mode": {
    "name": "ipython",
    "version": 3
   },
   "file_extension": ".py",
   "mimetype": "text/x-python",
   "name": "python",
   "nbconvert_exporter": "python",
   "pygments_lexer": "ipython3",
   "version": "3.11.5"
  }
 },
 "nbformat": 4,
 "nbformat_minor": 5
}
